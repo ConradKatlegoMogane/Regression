{
 "cells": [
  {
   "cell_type": "code",
   "execution_count": null,
   "id": "91ff37c6",
   "metadata": {},
   "outputs": [],
   "source": []
  },
  {
   "cell_type": "markdown",
   "id": "b9bd8d12",
   "metadata": {},
   "source": [
    "🚗 **Linear Regression Methodology – Used Car Analysis**\n",
    "\n",
    "Thanks for sharing your research topic! Here’s a tailored methodology section you can include or adapt for your project:\n",
    "\n",
    "---\n",
    "\n",
    "### 🧠 **Research Design**\n",
    "This study employs a **quantitative research design** using **linear regression models** to evaluate the impact of vehicle age on mileage and market price. Regression analysis is selected for its ability to identify and quantify relationships between continuous variables.\n",
    "\n",
    "---\n",
    "\n",
    "### 📊 **Data Source & Sampling**\n",
    "- **Dataset**: 1,821 records of used cars, filtered to include vehicles less than 20 years old.\n",
    "- **Sampling Strategy**: Purposive sampling was used to exclude outlier vehicles exceeding 20 years in age to maintain relevance and reduce variance.\n",
    "- **Key Variables**:\n",
    "  - **Independent Variable**: Age (calculated as current year minus manufacturing year)\n",
    "  - **Dependent Variables**: Mileage and Market Price\n",
    "\n",
    "---\n",
    "\n",
    "### 🛠️ **Data Collection Procedure**\n",
    "Data was collected from a trusted automotive database or online marketplace (you can specify the exact source if applicable). Age was derived from manufacturing year, and data cleaning was performed to remove incomplete or inconsistent entries.\n",
    "\n",
    "---\n",
    "\n",
    "### 📈 **Analytical Techniques**\n",
    "- **Linear Regression**: Separate regression models were fitted to explore:\n",
    "  - Relationship between age and mileage\n",
    "  - Relationship between age and price\n",
    "- **Model Evaluation Metrics**:\n",
    "  - **R² (Coefficient of Determination)** for goodness-of-fit\n",
    "  - **p-values** to test statistical significance\n",
    "  - **Standard Errors** to assess variability of coefficients\n",
    "- **Visualizations**: Scatter plots and regression lines were generated for intuitive interpretation of trends.\n",
    "\n",
    "---\n",
    "\n",
    "### ✅ **Ethical Considerations**\n",
    "All data used were publicly available, ensuring no breach of confidentiality. Bias was minimized by excluding outliers and ensuring consistent variable definitions.\n",
    "\n",
    "---\n",
    "\n",
    "### ⚖️ **Limitations**\n",
    "- Data may not account for external valuation factors such as brand reputation or market demand.\n",
    "- Regression models assume linearity, which may oversimplify complex relationships.\n",
    "\n",
    "---\n",
    "\n",
    "Would you like help refining your charts, interpreting regression output, or preparing your conclusion section next? Happy to dive in wherever you need support."
   ]
  }
 ],
 "metadata": {
  "language_info": {
   "name": "python"
  }
 },
 "nbformat": 4,
 "nbformat_minor": 5
}
